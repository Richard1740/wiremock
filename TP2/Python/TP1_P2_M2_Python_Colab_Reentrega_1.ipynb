{
  "nbformat": 4,
  "nbformat_minor": 0,
  "metadata": {
    "colab": {
      "provenance": [],
      "include_colab_link": true
    },
    "kernelspec": {
      "name": "python3",
      "display_name": "Python 3"
    },
    "language_info": {
      "name": "python"
    }
  },
  "cells": [
    {
      "cell_type": "markdown",
      "metadata": {
        "id": "view-in-github",
        "colab_type": "text"
      },
      "source": [
        "<a href=\"https://colab.research.google.com/github/Richard1740/Wiremock/blob/main/TP2/Python/TP1_P2_M2_Python_Colab_Reentrega_1.ipynb\" target=\"_parent\"><img src=\"https://colab.research.google.com/assets/colab-badge.svg\" alt=\"Open In Colab\"/></a>"
      ]
    },
    {
      "cell_type": "markdown",
      "source": [
        "Se usa el comando writefile para crear el archivo TP1_P2.py para ejecutarlo luego."
      ],
      "metadata": {
        "id": "2g2ic2H-0o2o"
      }
    },
    {
      "cell_type": "code",
      "execution_count": 3,
      "metadata": {
        "colab": {
          "base_uri": "https://localhost:8080/"
        },
        "id": "pHncVz7AmeXh",
        "outputId": "f3853d0d-3941-4304-86a9-2b62926c3f0d"
      },
      "outputs": [
        {
          "output_type": "stream",
          "name": "stdout",
          "text": [
            "Overwriting TP1_P2.py\n"
          ]
        }
      ],
      "source": [
        "%%writefile TP1_P2.py\n",
        "#!/usr/bin/env python3\n",
        "\n",
        "import os\n",
        "import sys\n",
        "import random\n",
        "import threading\n",
        "import time\n",
        "\n",
        "\n",
        "PARAMETROS_CORRECTOS = 2\n",
        "RANGO_MINIMO = 5\n",
        "RANGO_MAXIMO = 20\n",
        "VALOR_ALEATORIO_MAXIMO = 32\n",
        "VALOR_ALEATORIO_MINIMO = -32\n",
        "hilos = []\n",
        "\n",
        "class MatricesHilos:\n",
        "\tmatriz_a = [];\n",
        "\tmatriz_b = [];\n",
        "\tmatriz_cs = [];\n",
        "\tmatriz_ch = [];\n",
        "\t\n",
        "matrices_hilos = MatricesHilos();\n",
        "\n",
        "def main():\n",
        "\n",
        "\tif cantidad_correcta_de_parametros(len(sys.argv)) == False:\n",
        "\t\tprint(\"No ingreso la cantidad correcta de parametros. Solo debe ingresar el valor de N\");\n",
        "\t\tos._exit(1);\n",
        "\t\n",
        "\tparametro = sys.argv[1];\n",
        "\t\n",
        "\tif parametro.isnumeric() == False:\n",
        "\t\tprint(\"Formato de parametro incorrecto. El parametro ingresado debe ser un numero.\");\n",
        "\t\tos._exit(1);\n",
        "\t\t\n",
        "\ttamanio = int(parametro);\n",
        "\t\n",
        "\tif rango_valido_de_n(tamanio,RANGO_MINIMO,RANGO_MAXIMO) == False:\n",
        "\t\tprint(\"El rango de N debe estar entre 5 y 20\");\n",
        "\t\tos._exit(1);\n",
        "\n",
        "\tllenar_estructura(tamanio);\n",
        "\tllenar_matrices_aleatorio();\n",
        "\tmultiplicar_matrices_secuencial();\n",
        "\tmultiplicar_matrices_con_hilos();\n",
        "\tfor hilo in hilos:\n",
        "\t\thilo.join();\n",
        "\tmostrar_matrices();\n",
        "\tcomparar_matrices_resultado();\n",
        "\tos._exit(0);\n",
        "\t\n",
        "def cantidad_correcta_de_parametros(parametros_recibidos):\n",
        "\treturn parametros_recibidos == PARAMETROS_CORRECTOS;\n",
        "  \n",
        "def rango_valido_de_n(valor, valor_minimo, valor_maximo):\n",
        "\treturn valor >= valor_minimo and valor <= valor_maximo;\n",
        "\n",
        "def llenar_estructura(tamanio):\n",
        "\tmatrices_hilos.matriz_a = crear_matriz(tamanio);\n",
        "\tmatrices_hilos.matriz_b = crear_matriz(tamanio);\n",
        "\tmatrices_hilos.matriz_cs = crear_matriz(tamanio);\n",
        "\tmatrices_hilos.matriz_ch = crear_matriz(tamanio);\n",
        "\tmatrices_hilos.tamanio_de_matriz = tamanio;\n",
        "\treturn matrices_hilos;\n",
        "\n",
        "def crear_matriz(tamanio_matriz):\n",
        "\tmatriz = [];\n",
        "\tfor i in range(tamanio_matriz):\n",
        "\t\tmatriz.append([]);\n",
        "\t\tfor j in range(tamanio_matriz):\n",
        "\t\t\tmatriz[i].append(0);\n",
        "\treturn matriz;\n",
        " \n",
        "def llenar_matrices_aleatorio():\n",
        "\tfor i in range(matrices_hilos.tamanio_de_matriz):\n",
        "\t\tfor j in range(matrices_hilos.tamanio_de_matriz):\n",
        "\t\t\tmatrices_hilos.matriz_a[i][j] = random.randrange(VALOR_ALEATORIO_MINIMO, VALOR_ALEATORIO_MAXIMO + 1);\n",
        "\t\t\tmatrices_hilos.matriz_b[i][j] = random.randrange(VALOR_ALEATORIO_MINIMO, VALOR_ALEATORIO_MAXIMO + 1);\n",
        "\n",
        "\n",
        "def multiplicar_matrices_secuencial():\n",
        "\tfor i in range(matrices_hilos.tamanio_de_matriz):\n",
        "\t\tfor j in range(matrices_hilos.tamanio_de_matriz):\n",
        "\t\t\tmatrices_hilos.matriz_cs[i][j] = 0;\n",
        "\t\t\tfor k in range(matrices_hilos.tamanio_de_matriz):\n",
        "\t\t\t\tmatrices_hilos.matriz_cs[i][j] += matrices_hilos.matriz_a[i][k] * matrices_hilos.matriz_b[k][j];\n",
        "\n",
        "def multiplicar_matrices_con_hilos():\n",
        "\t\n",
        "\tfor i in range(matrices_hilos.tamanio_de_matriz):\n",
        "\t\tthread = threading.Thread(target=funcion_ejecutada_por_hilo, args=(matrices_hilos, i));\n",
        "\t\tthread.start();\n",
        "\t\thilos.append(thread);\n",
        "\t\t\t\n",
        "def funcion_ejecutada_por_hilo(matrices_hilos, numero_hilo):\n",
        "\tfor j in range(matrices_hilos.tamanio_de_matriz):\n",
        "\t\tfor k in range(matrices_hilos.tamanio_de_matriz):\n",
        "\t\t\tmatrices_hilos.matriz_ch[numero_hilo][j] += matrices_hilos.matriz_a[numero_hilo][k] * matrices_hilos.matriz_b[k][j];\n",
        "\t\n",
        "def mostrar_matrices():\n",
        "\tmostrar_matriz(matrices_hilos.matriz_a, \"Matriz A\");\n",
        "\tmostrar_matriz(matrices_hilos.matriz_b, \"Matriz B\");\n",
        "\tmostrar_matriz(matrices_hilos.matriz_cs,\"Matriz CS\");\n",
        "\tmostrar_matriz(matrices_hilos.matriz_ch,\"Matriz CH\");\n",
        "\t\n",
        "def mostrar_matriz(matriz, nombre):\n",
        "\tprint(nombre);\n",
        "\tfor i in range(matrices_hilos.tamanio_de_matriz): \n",
        "\t\tfor j in range(matrices_hilos.tamanio_de_matriz): \n",
        "\t\t\tprint(\"\\t\", matriz[i][j], end=\" \");\n",
        "\t\tprint();\n",
        "\n",
        "def comparar_matrices_resultado():\n",
        "\tson_iguales = True;\n",
        "\tfor i in range(matrices_hilos.tamanio_de_matriz):\n",
        "\t\tfor j in range(matrices_hilos.tamanio_de_matriz):\n",
        "      \t\t\tif (matrices_hilos.matriz_cs[i][j] != matrices_hilos.matriz_ch[i][j]):\n",
        "      \t\t\t\tson_iguales = False;\n",
        "      \t\t\t\tbreak;\n",
        "\tif son_iguales:\n",
        "\t\tprint(\"El producto matricial da lo mismo\");\n",
        "\telse:\n",
        "\t\tprint(\"El producto matricial da distinto\");\n",
        "\n",
        "main()"
      ]
    },
    {
      "cell_type": "markdown",
      "source": [
        "Se listan los archivos para comprobar que TP1_P2.py fue creado."
      ],
      "metadata": {
        "id": "kIUAAMH01Tzm"
      }
    },
    {
      "cell_type": "code",
      "source": [
        "!ls -la"
      ],
      "metadata": {
        "colab": {
          "base_uri": "https://localhost:8080/"
        },
        "id": "NmjsDKNY_I-i",
        "outputId": "0d0e26ba-8ffc-4301-a6f1-31a89c86697b"
      },
      "execution_count": 4,
      "outputs": [
        {
          "output_type": "stream",
          "name": "stdout",
          "text": [
            "total 20\n",
            "drwxr-xr-x 1 root root 4096 Apr 27 03:01 .\n",
            "drwxr-xr-x 1 root root 4096 Apr 27 02:59 ..\n",
            "drwxr-xr-x 4 root root 4096 Apr 25 13:33 .config\n",
            "drwxr-xr-x 1 root root 4096 Apr 25 13:34 sample_data\n",
            "-rw-r--r-- 1 root root 3866 Apr 27 03:01 TP1_P2.py\n"
          ]
        }
      ]
    },
    {
      "cell_type": "markdown",
      "source": [
        "Se ejecuta el proceso pasandole un parametro numerico N comprendido entre 5 y 20. En este ejemplo, N es igual a 5. Se crean la Matriz A y B. Se multiplican en forma secuencial, cuyo resultado es la Matriz CS. Se multiplican empleando Hilos, generando la Matriz CH. Al final se expresa si las matrices CS y CH son iguales."
      ],
      "metadata": {
        "id": "bgijAxS3_X-F"
      }
    },
    {
      "cell_type": "code",
      "source": [
        "!python3 TP1_P2.py 5"
      ],
      "metadata": {
        "colab": {
          "base_uri": "https://localhost:8080/"
        },
        "id": "mhEjnYWFoLkU",
        "outputId": "bc6eb80f-01df-48f6-ad96-ef1ec5154493"
      },
      "execution_count": 13,
      "outputs": [
        {
          "output_type": "stream",
          "name": "stdout",
          "text": [
            "Matriz A\n",
            "\t 18 \t -31 \t -20 \t -12 \t -7 \n",
            "\t -6 \t -12 \t -2 \t 0 \t -32 \n",
            "\t 31 \t -30 \t -9 \t -5 \t -32 \n",
            "\t -31 \t -8 \t 15 \t -7 \t -2 \n",
            "\t -19 \t -23 \t -19 \t 21 \t -17 \n",
            "Matriz B\n",
            "\t -3 \t -27 \t -7 \t 11 \t 13 \n",
            "\t 19 \t 4 \t 22 \t -7 \t -19 \n",
            "\t -24 \t 6 \t 26 \t -2 \t -18 \n",
            "\t 17 \t -27 \t 14 \t -28 \t -22 \n",
            "\t 27 \t -16 \t -27 \t 32 \t -18 \n",
            "Matriz CS\n",
            "\t -556 \t -294 \t -1307 \t 567 \t 1573 \n",
            "\t -1026 \t 614 \t 590 \t -1002 \t 762 \n",
            "\t -1396 \t -364 \t -317 \t -315 \t 1821 \n",
            "\t -592 \t 1116 \t 387 \t -183 \t -331 \n",
            "\t -26 \t 12 \t -114 \t -1142 \t 376 \n",
            "Matriz CH\n",
            "\t -556 \t -294 \t -1307 \t 567 \t 1573 \n",
            "\t -1026 \t 614 \t 590 \t -1002 \t 762 \n",
            "\t -1396 \t -364 \t -317 \t -315 \t 1821 \n",
            "\t -592 \t 1116 \t 387 \t -183 \t -331 \n",
            "\t -26 \t 12 \t -114 \t -1142 \t 376 \n",
            "El producto matricial da lo mismo\n"
          ]
        }
      ]
    },
    {
      "cell_type": "markdown",
      "source": [
        "Ejecutamos el proceso pasandole un parametro no numerico."
      ],
      "metadata": {
        "id": "td8VCGWzCDMY"
      }
    },
    {
      "cell_type": "code",
      "source": [
        "!python3 TP1_P2.py u"
      ],
      "metadata": {
        "colab": {
          "base_uri": "https://localhost:8080/"
        },
        "id": "WVClJqdiDDUw",
        "outputId": "2a13e5d7-a5a4-4a53-cb31-15baf6264339"
      },
      "execution_count": 6,
      "outputs": [
        {
          "output_type": "stream",
          "name": "stdout",
          "text": [
            "Formato de parametro incorrecto. El parametro ingresado debe ser un numero.\n"
          ]
        }
      ]
    },
    {
      "cell_type": "markdown",
      "source": [
        "Ejecutamos el proceso pasandole mas de un parametro."
      ],
      "metadata": {
        "id": "mcSaGnCwBV5J"
      }
    },
    {
      "cell_type": "code",
      "source": [
        "!python3 TP1_P2.py 5 7"
      ],
      "metadata": {
        "colab": {
          "base_uri": "https://localhost:8080/"
        },
        "id": "FWeZDt77DEUw",
        "outputId": "97d21a03-be55-495c-8e27-4c2a7dbd59b9"
      },
      "execution_count": 7,
      "outputs": [
        {
          "output_type": "stream",
          "name": "stdout",
          "text": [
            "No ingreso la cantidad correcta de parametros. Solo debe ingresar el valor de N\n"
          ]
        }
      ]
    },
    {
      "cell_type": "markdown",
      "source": [
        "Ejecutamos el proceso sin pasarle parametros."
      ],
      "metadata": {
        "id": "guIwpV8jB11X"
      }
    },
    {
      "cell_type": "code",
      "source": [
        "!python3 TP1_P2.py"
      ],
      "metadata": {
        "colab": {
          "base_uri": "https://localhost:8080/"
        },
        "id": "zF4pJxsaDeNJ",
        "outputId": "031ad0d4-2f62-496c-e0b5-ffa96f415b78"
      },
      "execution_count": 8,
      "outputs": [
        {
          "output_type": "stream",
          "name": "stdout",
          "text": [
            "No ingreso la cantidad correcta de parametros. Solo debe ingresar el valor de N\n"
          ]
        }
      ]
    },
    {
      "cell_type": "markdown",
      "source": [
        "Ejecutamos el proceso pasandole un parametro numerico menor a 5."
      ],
      "metadata": {
        "id": "UBvZ18Z2B_9M"
      }
    },
    {
      "cell_type": "code",
      "source": [
        "!python3 TP1_P2.py 4"
      ],
      "metadata": {
        "colab": {
          "base_uri": "https://localhost:8080/"
        },
        "id": "pdZUjh98DyFc",
        "outputId": "7fbdc6a9-89ff-4049-b9c5-219ece53b727"
      },
      "execution_count": 9,
      "outputs": [
        {
          "output_type": "stream",
          "name": "stdout",
          "text": [
            "El rango de N debe estar entre 5 y 20\n"
          ]
        }
      ]
    },
    {
      "cell_type": "markdown",
      "source": [
        "Ejecutamos el proceso pasandole un parametro numerico mayor a 20."
      ],
      "metadata": {
        "id": "wWZpj-5sC_GX"
      }
    },
    {
      "cell_type": "code",
      "source": [
        "!python3 TP1_P2.py 21"
      ],
      "metadata": {
        "colab": {
          "base_uri": "https://localhost:8080/"
        },
        "id": "qtjJYelzD2vX",
        "outputId": "c90632dd-7216-4659-bd56-940a07703806"
      },
      "execution_count": 10,
      "outputs": [
        {
          "output_type": "stream",
          "name": "stdout",
          "text": [
            "El rango de N debe estar entre 5 y 20\n"
          ]
        }
      ]
    }
  ]
}